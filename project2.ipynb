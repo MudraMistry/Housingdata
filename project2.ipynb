{
 "cells": [
  {
   "cell_type": "code",
   "execution_count": 276,
   "id": "62beeccd",
   "metadata": {},
   "outputs": [],
   "source": [
    "import pandas as pd \n",
    "import numpy as np \n",
    "import matplotlib.pyplot as plt \n",
    "%matplotlib inline\n",
    "from sklearn.linear_model import LinearRegression \n",
    "from sklearn.metrics import r2_score,mean_squared_error"
   ]
  },
  {
   "cell_type": "code",
   "execution_count": 277,
   "id": "f9565ca2",
   "metadata": {},
   "outputs": [
    {
     "name": "stdout",
     "output_type": "stream",
     "text": [
      "C:\\Users\\MUDRA\\Downloads\\ML\\projects\n"
     ]
    }
   ],
   "source": [
    "cd C:\\\\Users\\\\MUDRA\\\\Downloads\\\\ML\\\\projects"
   ]
  },
  {
   "cell_type": "code",
   "execution_count": 278,
   "id": "e65124c1",
   "metadata": {},
   "outputs": [
    {
     "data": {
      "text/html": [
       "<div>\n",
       "<style scoped>\n",
       "    .dataframe tbody tr th:only-of-type {\n",
       "        vertical-align: middle;\n",
       "    }\n",
       "\n",
       "    .dataframe tbody tr th {\n",
       "        vertical-align: top;\n",
       "    }\n",
       "\n",
       "    .dataframe thead th {\n",
       "        text-align: right;\n",
       "    }\n",
       "</style>\n",
       "<table border=\"1\" class=\"dataframe\">\n",
       "  <thead>\n",
       "    <tr style=\"text-align: right;\">\n",
       "      <th></th>\n",
       "      <th>Suburb</th>\n",
       "      <th>Address</th>\n",
       "      <th>Rooms</th>\n",
       "      <th>Type</th>\n",
       "      <th>Price</th>\n",
       "      <th>Method</th>\n",
       "      <th>SellerG</th>\n",
       "      <th>Date</th>\n",
       "      <th>Distance</th>\n",
       "      <th>Postcode</th>\n",
       "      <th>...</th>\n",
       "      <th>Bathroom</th>\n",
       "      <th>Car</th>\n",
       "      <th>Landsize</th>\n",
       "      <th>BuildingArea</th>\n",
       "      <th>YearBuilt</th>\n",
       "      <th>CouncilArea</th>\n",
       "      <th>Lattitude</th>\n",
       "      <th>Longtitude</th>\n",
       "      <th>Regionname</th>\n",
       "      <th>Propertycount</th>\n",
       "    </tr>\n",
       "  </thead>\n",
       "  <tbody>\n",
       "    <tr>\n",
       "      <th>0</th>\n",
       "      <td>Abbotsford</td>\n",
       "      <td>68 Studley St</td>\n",
       "      <td>2</td>\n",
       "      <td>h</td>\n",
       "      <td>NaN</td>\n",
       "      <td>SS</td>\n",
       "      <td>Jellis</td>\n",
       "      <td>03/09/2016</td>\n",
       "      <td>2.5</td>\n",
       "      <td>3067.0</td>\n",
       "      <td>...</td>\n",
       "      <td>1.0</td>\n",
       "      <td>1.0</td>\n",
       "      <td>126.0</td>\n",
       "      <td>NaN</td>\n",
       "      <td>NaN</td>\n",
       "      <td>Yarra City Council</td>\n",
       "      <td>-37.8014</td>\n",
       "      <td>144.9958</td>\n",
       "      <td>Northern Metropolitan</td>\n",
       "      <td>4019.0</td>\n",
       "    </tr>\n",
       "    <tr>\n",
       "      <th>1</th>\n",
       "      <td>Abbotsford</td>\n",
       "      <td>85 Turner St</td>\n",
       "      <td>2</td>\n",
       "      <td>h</td>\n",
       "      <td>1480000.0</td>\n",
       "      <td>S</td>\n",
       "      <td>Biggin</td>\n",
       "      <td>03/12/2016</td>\n",
       "      <td>2.5</td>\n",
       "      <td>3067.0</td>\n",
       "      <td>...</td>\n",
       "      <td>1.0</td>\n",
       "      <td>1.0</td>\n",
       "      <td>202.0</td>\n",
       "      <td>NaN</td>\n",
       "      <td>NaN</td>\n",
       "      <td>Yarra City Council</td>\n",
       "      <td>-37.7996</td>\n",
       "      <td>144.9984</td>\n",
       "      <td>Northern Metropolitan</td>\n",
       "      <td>4019.0</td>\n",
       "    </tr>\n",
       "    <tr>\n",
       "      <th>2</th>\n",
       "      <td>Abbotsford</td>\n",
       "      <td>25 Bloomburg St</td>\n",
       "      <td>2</td>\n",
       "      <td>h</td>\n",
       "      <td>1035000.0</td>\n",
       "      <td>S</td>\n",
       "      <td>Biggin</td>\n",
       "      <td>04/02/2016</td>\n",
       "      <td>2.5</td>\n",
       "      <td>3067.0</td>\n",
       "      <td>...</td>\n",
       "      <td>1.0</td>\n",
       "      <td>0.0</td>\n",
       "      <td>156.0</td>\n",
       "      <td>79.0</td>\n",
       "      <td>1900.0</td>\n",
       "      <td>Yarra City Council</td>\n",
       "      <td>-37.8079</td>\n",
       "      <td>144.9934</td>\n",
       "      <td>Northern Metropolitan</td>\n",
       "      <td>4019.0</td>\n",
       "    </tr>\n",
       "    <tr>\n",
       "      <th>3</th>\n",
       "      <td>Abbotsford</td>\n",
       "      <td>18/659 Victoria St</td>\n",
       "      <td>3</td>\n",
       "      <td>u</td>\n",
       "      <td>NaN</td>\n",
       "      <td>VB</td>\n",
       "      <td>Rounds</td>\n",
       "      <td>04/02/2016</td>\n",
       "      <td>2.5</td>\n",
       "      <td>3067.0</td>\n",
       "      <td>...</td>\n",
       "      <td>2.0</td>\n",
       "      <td>1.0</td>\n",
       "      <td>0.0</td>\n",
       "      <td>NaN</td>\n",
       "      <td>NaN</td>\n",
       "      <td>Yarra City Council</td>\n",
       "      <td>-37.8114</td>\n",
       "      <td>145.0116</td>\n",
       "      <td>Northern Metropolitan</td>\n",
       "      <td>4019.0</td>\n",
       "    </tr>\n",
       "    <tr>\n",
       "      <th>4</th>\n",
       "      <td>Abbotsford</td>\n",
       "      <td>5 Charles St</td>\n",
       "      <td>3</td>\n",
       "      <td>h</td>\n",
       "      <td>1465000.0</td>\n",
       "      <td>SP</td>\n",
       "      <td>Biggin</td>\n",
       "      <td>04/03/2017</td>\n",
       "      <td>2.5</td>\n",
       "      <td>3067.0</td>\n",
       "      <td>...</td>\n",
       "      <td>2.0</td>\n",
       "      <td>0.0</td>\n",
       "      <td>134.0</td>\n",
       "      <td>150.0</td>\n",
       "      <td>1900.0</td>\n",
       "      <td>Yarra City Council</td>\n",
       "      <td>-37.8093</td>\n",
       "      <td>144.9944</td>\n",
       "      <td>Northern Metropolitan</td>\n",
       "      <td>4019.0</td>\n",
       "    </tr>\n",
       "  </tbody>\n",
       "</table>\n",
       "<p>5 rows × 21 columns</p>\n",
       "</div>"
      ],
      "text/plain": [
       "       Suburb             Address  Rooms Type      Price Method SellerG  \\\n",
       "0  Abbotsford       68 Studley St      2    h        NaN     SS  Jellis   \n",
       "1  Abbotsford        85 Turner St      2    h  1480000.0      S  Biggin   \n",
       "2  Abbotsford     25 Bloomburg St      2    h  1035000.0      S  Biggin   \n",
       "3  Abbotsford  18/659 Victoria St      3    u        NaN     VB  Rounds   \n",
       "4  Abbotsford        5 Charles St      3    h  1465000.0     SP  Biggin   \n",
       "\n",
       "         Date  Distance  Postcode  ...  Bathroom  Car  Landsize  BuildingArea  \\\n",
       "0  03/09/2016       2.5    3067.0  ...       1.0  1.0     126.0           NaN   \n",
       "1  03/12/2016       2.5    3067.0  ...       1.0  1.0     202.0           NaN   \n",
       "2  04/02/2016       2.5    3067.0  ...       1.0  0.0     156.0          79.0   \n",
       "3  04/02/2016       2.5    3067.0  ...       2.0  1.0       0.0           NaN   \n",
       "4  04/03/2017       2.5    3067.0  ...       2.0  0.0     134.0         150.0   \n",
       "\n",
       "   YearBuilt         CouncilArea Lattitude  Longtitude             Regionname  \\\n",
       "0        NaN  Yarra City Council  -37.8014    144.9958  Northern Metropolitan   \n",
       "1        NaN  Yarra City Council  -37.7996    144.9984  Northern Metropolitan   \n",
       "2     1900.0  Yarra City Council  -37.8079    144.9934  Northern Metropolitan   \n",
       "3        NaN  Yarra City Council  -37.8114    145.0116  Northern Metropolitan   \n",
       "4     1900.0  Yarra City Council  -37.8093    144.9944  Northern Metropolitan   \n",
       "\n",
       "  Propertycount  \n",
       "0        4019.0  \n",
       "1        4019.0  \n",
       "2        4019.0  \n",
       "3        4019.0  \n",
       "4        4019.0  \n",
       "\n",
       "[5 rows x 21 columns]"
      ]
     },
     "execution_count": 278,
     "metadata": {},
     "output_type": "execute_result"
    }
   ],
   "source": [
    "df=pd.read_csv(\"project2.csv\")\n",
    "df.head()"
   ]
  },
  {
   "cell_type": "code",
   "execution_count": 279,
   "id": "f4915791",
   "metadata": {},
   "outputs": [
    {
     "data": {
      "text/plain": [
       "Index(['Suburb', 'Address', 'Rooms', 'Type', 'Price', 'Method', 'SellerG',\n",
       "       'Date', 'Distance', 'Postcode', 'Bedroom2', 'Bathroom', 'Car',\n",
       "       'Landsize', 'BuildingArea', 'YearBuilt', 'CouncilArea', 'Lattitude',\n",
       "       'Longtitude', 'Regionname', 'Propertycount'],\n",
       "      dtype='object')"
      ]
     },
     "execution_count": 279,
     "metadata": {},
     "output_type": "execute_result"
    }
   ],
   "source": [
    "df.columns"
   ]
  },
  {
   "cell_type": "code",
   "execution_count": 280,
   "id": "67405683",
   "metadata": {},
   "outputs": [
    {
     "data": {
      "text/plain": [
       "<bound method NDFrame.describe of            Suburb             Address  Rooms Type      Price Method  \\\n",
       "0      Abbotsford       68 Studley St      2    h        NaN     SS   \n",
       "1      Abbotsford        85 Turner St      2    h  1480000.0      S   \n",
       "2      Abbotsford     25 Bloomburg St      2    h  1035000.0      S   \n",
       "3      Abbotsford  18/659 Victoria St      3    u        NaN     VB   \n",
       "4      Abbotsford        5 Charles St      3    h  1465000.0     SP   \n",
       "...           ...                 ...    ...  ...        ...    ...   \n",
       "34852  Yarraville         13 Burns St      4    h  1480000.0     PI   \n",
       "34853  Yarraville       29A Murray St      2    h   888000.0     SP   \n",
       "34854  Yarraville      147A Severn St      2    t   705000.0      S   \n",
       "34855  Yarraville    12/37 Stephen St      3    h  1140000.0     SP   \n",
       "34856  Yarraville    3 Tarrengower St      2    h  1020000.0     PI   \n",
       "\n",
       "             SellerG        Date  Distance  Postcode  ...  Bathroom  Car  \\\n",
       "0             Jellis  03/09/2016       2.5    3067.0  ...       1.0  1.0   \n",
       "1             Biggin  03/12/2016       2.5    3067.0  ...       1.0  1.0   \n",
       "2             Biggin  04/02/2016       2.5    3067.0  ...       1.0  0.0   \n",
       "3             Rounds  04/02/2016       2.5    3067.0  ...       2.0  1.0   \n",
       "4             Biggin  04/03/2017       2.5    3067.0  ...       2.0  0.0   \n",
       "...              ...         ...       ...       ...  ...       ...  ...   \n",
       "34852            Jas  24/02/2018       6.3    3013.0  ...       1.0  3.0   \n",
       "34853        Sweeney  24/02/2018       6.3    3013.0  ...       2.0  1.0   \n",
       "34854            Jas  24/02/2018       6.3    3013.0  ...       1.0  2.0   \n",
       "34855  hockingstuart  24/02/2018       6.3    3013.0  ...       NaN  NaN   \n",
       "34856             RW  24/02/2018       6.3    3013.0  ...       1.0  0.0   \n",
       "\n",
       "       Landsize  BuildingArea  YearBuilt               CouncilArea Lattitude  \\\n",
       "0         126.0           NaN        NaN        Yarra City Council -37.80140   \n",
       "1         202.0           NaN        NaN        Yarra City Council -37.79960   \n",
       "2         156.0          79.0     1900.0        Yarra City Council -37.80790   \n",
       "3           0.0           NaN        NaN        Yarra City Council -37.81140   \n",
       "4         134.0         150.0     1900.0        Yarra City Council -37.80930   \n",
       "...         ...           ...        ...                       ...       ...   \n",
       "34852     593.0           NaN        NaN  Maribyrnong City Council -37.81053   \n",
       "34853      98.0         104.0     2018.0  Maribyrnong City Council -37.81551   \n",
       "34854     220.0         120.0     2000.0  Maribyrnong City Council -37.82286   \n",
       "34855       NaN           NaN        NaN  Maribyrnong City Council       NaN   \n",
       "34856     250.0         103.0     1930.0  Maribyrnong City Council -37.81810   \n",
       "\n",
       "       Longtitude             Regionname Propertycount  \n",
       "0       144.99580  Northern Metropolitan        4019.0  \n",
       "1       144.99840  Northern Metropolitan        4019.0  \n",
       "2       144.99340  Northern Metropolitan        4019.0  \n",
       "3       145.01160  Northern Metropolitan        4019.0  \n",
       "4       144.99440  Northern Metropolitan        4019.0  \n",
       "...           ...                    ...           ...  \n",
       "34852   144.88467   Western Metropolitan        6543.0  \n",
       "34853   144.88826   Western Metropolitan        6543.0  \n",
       "34854   144.87856   Western Metropolitan        6543.0  \n",
       "34855         NaN   Western Metropolitan        6543.0  \n",
       "34856   144.89351   Western Metropolitan        6543.0  \n",
       "\n",
       "[34857 rows x 21 columns]>"
      ]
     },
     "execution_count": 280,
     "metadata": {},
     "output_type": "execute_result"
    }
   ],
   "source": [
    "df.describe"
   ]
  },
  {
   "cell_type": "code",
   "execution_count": 281,
   "id": "a6607d93",
   "metadata": {},
   "outputs": [],
   "source": [
    "df = df.drop(['Address','Date','Postcode','YearBuilt',\"Lattitude\",\"Longtitude\"],axis=1)"
   ]
  },
  {
   "cell_type": "code",
   "execution_count": 282,
   "id": "32211857",
   "metadata": {},
   "outputs": [
    {
     "data": {
      "text/plain": [
       "Suburb               0\n",
       "Rooms                0\n",
       "Type                 0\n",
       "Price             7610\n",
       "Method               0\n",
       "SellerG              0\n",
       "Distance             1\n",
       "Bedroom2          8217\n",
       "Bathroom          8226\n",
       "Car               8728\n",
       "Landsize         11810\n",
       "BuildingArea     21115\n",
       "CouncilArea          3\n",
       "Regionname           3\n",
       "Propertycount        3\n",
       "dtype: int64"
      ]
     },
     "execution_count": 282,
     "metadata": {},
     "output_type": "execute_result"
    }
   ],
   "source": [
    "df.isnull().sum()"
   ]
  },
  {
   "cell_type": "code",
   "execution_count": 283,
   "id": "56c4bac9",
   "metadata": {},
   "outputs": [],
   "source": [
    "df[\"Propertycount\"].fillna(\"0\", inplace = True)\n",
    "df[\"Distance\"].fillna(\"0\", inplace = True)\n",
    "df[\"Bedroom2\"].fillna(\"0\", inplace = True)\n",
    "df[\"Bathroom\"].fillna(\"0\", inplace = True)\n",
    "df[\"Car\"].fillna(\"0\", inplace = True)"
   ]
  },
  {
   "cell_type": "code",
   "execution_count": 284,
   "id": "908574c6",
   "metadata": {},
   "outputs": [
    {
     "data": {
      "text/plain": [
       "593.598993361392"
      ]
     },
     "execution_count": 284,
     "metadata": {},
     "output_type": "execute_result"
    }
   ],
   "source": [
    "a=df.Landsize.mean()\n",
    "a"
   ]
  },
  {
   "cell_type": "code",
   "execution_count": 285,
   "id": "fbe2d2f4",
   "metadata": {},
   "outputs": [
    {
     "data": {
      "text/plain": [
       "160.2564003565711"
      ]
     },
     "execution_count": 285,
     "metadata": {},
     "output_type": "execute_result"
    }
   ],
   "source": [
    "b=df.BuildingArea.mean()\n",
    "b"
   ]
  },
  {
   "cell_type": "code",
   "execution_count": 286,
   "id": "98b6c46f",
   "metadata": {},
   "outputs": [],
   "source": [
    "df.Landsize=df.Landsize.fillna(a)"
   ]
  },
  {
   "cell_type": "code",
   "execution_count": 287,
   "id": "718227bc",
   "metadata": {},
   "outputs": [],
   "source": [
    "df.BuildingArea=df.BuildingArea.fillna(b)"
   ]
  },
  {
   "cell_type": "code",
   "execution_count": 288,
   "id": "8ed9f80b",
   "metadata": {},
   "outputs": [
    {
     "data": {
      "text/plain": [
       "array(['SS', 'S', 'VB', 'SP', 'PI', 'SN', 'W', 'PN', 'SA'], dtype=object)"
      ]
     },
     "execution_count": 288,
     "metadata": {},
     "output_type": "execute_result"
    }
   ],
   "source": [
    "df.Method.unique()"
   ]
  },
  {
   "cell_type": "code",
   "execution_count": 289,
   "id": "48384901",
   "metadata": {},
   "outputs": [],
   "source": [
    "#Q9"
   ]
  },
  {
   "cell_type": "code",
   "execution_count": 290,
   "id": "acdeb5db",
   "metadata": {},
   "outputs": [],
   "source": [
    "df.dropna(inplace=True)"
   ]
  },
  {
   "cell_type": "code",
   "execution_count": 291,
   "id": "848a6f97",
   "metadata": {},
   "outputs": [
    {
     "data": {
      "text/plain": [
       "(27244, 15)"
      ]
     },
     "execution_count": 291,
     "metadata": {},
     "output_type": "execute_result"
    }
   ],
   "source": [
    "df.shape"
   ]
  },
  {
   "cell_type": "code",
   "execution_count": 292,
   "id": "bc4ded30",
   "metadata": {},
   "outputs": [
    {
     "name": "stdout",
     "output_type": "stream",
     "text": [
      "<class 'pandas.core.frame.DataFrame'>\n",
      "Int64Index: 27244 entries, 1 to 34856\n",
      "Data columns (total 15 columns):\n",
      " #   Column         Non-Null Count  Dtype  \n",
      "---  ------         --------------  -----  \n",
      " 0   Suburb         27244 non-null  object \n",
      " 1   Rooms          27244 non-null  int64  \n",
      " 2   Type           27244 non-null  object \n",
      " 3   Price          27244 non-null  float64\n",
      " 4   Method         27244 non-null  object \n",
      " 5   SellerG        27244 non-null  object \n",
      " 6   Distance       27244 non-null  object \n",
      " 7   Bedroom2       27244 non-null  object \n",
      " 8   Bathroom       27244 non-null  object \n",
      " 9   Car            27244 non-null  object \n",
      " 10  Landsize       27244 non-null  float64\n",
      " 11  BuildingArea   27244 non-null  float64\n",
      " 12  CouncilArea    27244 non-null  object \n",
      " 13  Regionname     27244 non-null  object \n",
      " 14  Propertycount  27244 non-null  object \n",
      "dtypes: float64(3), int64(1), object(11)\n",
      "memory usage: 2.2+ MB\n"
     ]
    }
   ],
   "source": [
    "df.info()"
   ]
  },
  {
   "cell_type": "code",
   "execution_count": null,
   "id": "a6a039ad",
   "metadata": {},
   "outputs": [],
   "source": []
  },
  {
   "cell_type": "code",
   "execution_count": null,
   "id": "f9ec4c12",
   "metadata": {},
   "outputs": [],
   "source": []
  },
  {
   "cell_type": "code",
   "execution_count": 293,
   "id": "22e0e7d8",
   "metadata": {},
   "outputs": [],
   "source": [
    "df[[\"Distance\", \"Bedroom2\",\"Bathroom\",\"Car\",\"Propertycount\"]] = df[[\"Distance\", \"Bedroom2\",\"Bathroom\",\"Car\",\"Propertycount\"]].apply(pd.to_numeric)"
   ]
  },
  {
   "cell_type": "code",
   "execution_count": 294,
   "id": "d862c1e8",
   "metadata": {},
   "outputs": [
    {
     "data": {
      "text/plain": [
       "(27244, 745)"
      ]
     },
     "execution_count": 294,
     "metadata": {},
     "output_type": "execute_result"
    }
   ],
   "source": [
    "df = pd.get_dummies(df,drop_first=True)\n",
    "df.shape"
   ]
  },
  {
   "cell_type": "code",
   "execution_count": null,
   "id": "f7fd1d5b",
   "metadata": {},
   "outputs": [],
   "source": []
  },
  {
   "cell_type": "markdown",
   "id": "da1b0b45",
   "metadata": {},
   "source": [
    "# part 2"
   ]
  },
  {
   "cell_type": "code",
   "execution_count": 295,
   "id": "422c3994",
   "metadata": {},
   "outputs": [],
   "source": [
    "Y= df[['Price']]"
   ]
  },
  {
   "cell_type": "code",
   "execution_count": 296,
   "id": "1250d209",
   "metadata": {},
   "outputs": [],
   "source": [
    "X = df.drop('Price', axis=1)"
   ]
  },
  {
   "cell_type": "code",
   "execution_count": 400,
   "id": "2e0ff40c",
   "metadata": {},
   "outputs": [],
   "source": [
    "from sklearn.model_selection import train_test_split\n",
    "X_train,X_test,Y_train,Y_test=train_test_split(X,Y,test_size=0.3,random_state=12)"
   ]
  },
  {
   "cell_type": "code",
   "execution_count": 306,
   "id": "cdf4474a",
   "metadata": {},
   "outputs": [],
   "source": [
    "from sklearn.linear_model import LinearRegression"
   ]
  },
  {
   "cell_type": "code",
   "execution_count": 307,
   "id": "b018eca0",
   "metadata": {},
   "outputs": [],
   "source": [
    "regression_model=LinearRegression()"
   ]
  },
  {
   "cell_type": "code",
   "execution_count": 397,
   "id": "7400e28f",
   "metadata": {},
   "outputs": [
    {
     "data": {
      "text/plain": [
       "(8174, 744)"
      ]
     },
     "execution_count": 397,
     "metadata": {},
     "output_type": "execute_result"
    }
   ],
   "source": [
    "X_test.shape"
   ]
  },
  {
   "cell_type": "code",
   "execution_count": 309,
   "id": "0a91e8a2",
   "metadata": {},
   "outputs": [
    {
     "data": {
      "text/plain": [
       "LinearRegression()"
      ]
     },
     "execution_count": 309,
     "metadata": {},
     "output_type": "execute_result"
    }
   ],
   "source": [
    "regression_model.fit(X_train,Y_train)"
   ]
  },
  {
   "cell_type": "code",
   "execution_count": 411,
   "id": "e6a6ac81",
   "metadata": {},
   "outputs": [
    {
     "data": {
      "text/plain": [
       "array([[ 758706.88764523],\n",
       "       [1427162.36419934],\n",
       "       [ 992469.94089334],\n",
       "       ...,\n",
       "       [1703521.5266348 ],\n",
       "       [1613416.89641059],\n",
       "       [1048893.19066342]])"
      ]
     },
     "execution_count": 411,
     "metadata": {},
     "output_type": "execute_result"
    }
   ],
   "source": [
    "Predicted_Price=regression_model.predict(X_test)\n",
    "Predicted_Price"
   ]
  },
  {
   "cell_type": "code",
   "execution_count": 412,
   "id": "58138c2f",
   "metadata": {},
   "outputs": [
    {
     "data": {
      "text/html": [
       "<div>\n",
       "<style scoped>\n",
       "    .dataframe tbody tr th:only-of-type {\n",
       "        vertical-align: middle;\n",
       "    }\n",
       "\n",
       "    .dataframe tbody tr th {\n",
       "        vertical-align: top;\n",
       "    }\n",
       "\n",
       "    .dataframe thead th {\n",
       "        text-align: right;\n",
       "    }\n",
       "</style>\n",
       "<table border=\"1\" class=\"dataframe\">\n",
       "  <thead>\n",
       "    <tr style=\"text-align: right;\">\n",
       "      <th></th>\n",
       "      <th>Price</th>\n",
       "    </tr>\n",
       "  </thead>\n",
       "  <tbody>\n",
       "    <tr>\n",
       "      <th>4458</th>\n",
       "      <td>661000.0</td>\n",
       "    </tr>\n",
       "    <tr>\n",
       "      <th>14371</th>\n",
       "      <td>1550000.0</td>\n",
       "    </tr>\n",
       "    <tr>\n",
       "      <th>21585</th>\n",
       "      <td>705000.0</td>\n",
       "    </tr>\n",
       "    <tr>\n",
       "      <th>24535</th>\n",
       "      <td>450000.0</td>\n",
       "    </tr>\n",
       "    <tr>\n",
       "      <th>17703</th>\n",
       "      <td>1900000.0</td>\n",
       "    </tr>\n",
       "  </tbody>\n",
       "</table>\n",
       "</div>"
      ],
      "text/plain": [
       "           Price\n",
       "4458    661000.0\n",
       "14371  1550000.0\n",
       "21585   705000.0\n",
       "24535   450000.0\n",
       "17703  1900000.0"
      ]
     },
     "execution_count": 412,
     "metadata": {},
     "output_type": "execute_result"
    }
   ],
   "source": [
    "Y_test.head()"
   ]
  },
  {
   "cell_type": "code",
   "execution_count": 401,
   "id": "c4a1905a",
   "metadata": {},
   "outputs": [
    {
     "data": {
      "text/plain": [
       "0.6592596354573708"
      ]
     },
     "execution_count": 401,
     "metadata": {},
     "output_type": "execute_result"
    }
   ],
   "source": [
    "regression_model.score(X_test,Y_test)"
   ]
  },
  {
   "cell_type": "code",
   "execution_count": 402,
   "id": "db502ecb",
   "metadata": {},
   "outputs": [
    {
     "data": {
      "text/plain": [
       "0.685139196344436"
      ]
     },
     "execution_count": 402,
     "metadata": {},
     "output_type": "execute_result"
    }
   ],
   "source": [
    "regression_model.score(X_train,Y_train)"
   ]
  },
  {
   "cell_type": "markdown",
   "id": "3fa36f31",
   "metadata": {},
   "source": [
    "ridge regression"
   ]
  },
  {
   "cell_type": "code",
   "execution_count": 315,
   "id": "0d27e143",
   "metadata": {},
   "outputs": [],
   "source": [
    "from sklearn.linear_model import Ridge\n",
    "from sklearn.linear_model import Lasso"
   ]
  },
  {
   "cell_type": "code",
   "execution_count": 403,
   "id": "0c3aef38",
   "metadata": {},
   "outputs": [
    {
     "data": {
      "text/plain": [
       "Ridge(alpha=50, max_iter=100)"
      ]
     },
     "execution_count": 403,
     "metadata": {},
     "output_type": "execute_result"
    }
   ],
   "source": [
    "ridge= Ridge(alpha=50, max_iter=100,)\n",
    "ridge.fit(X_train, Y_train)"
   ]
  },
  {
   "cell_type": "code",
   "execution_count": 404,
   "id": "91327e82",
   "metadata": {},
   "outputs": [
    {
     "data": {
      "text/plain": [
       "0.6495419385479382"
      ]
     },
     "execution_count": 404,
     "metadata": {},
     "output_type": "execute_result"
    }
   ],
   "source": [
    "ridge.score(X_test, Y_test)"
   ]
  },
  {
   "cell_type": "code",
   "execution_count": 405,
   "id": "21bec37f",
   "metadata": {},
   "outputs": [
    {
     "data": {
      "text/plain": [
       "0.6691880880029675"
      ]
     },
     "execution_count": 405,
     "metadata": {},
     "output_type": "execute_result"
    }
   ],
   "source": [
    "ridge.score(X_train,Y_train)"
   ]
  },
  {
   "cell_type": "markdown",
   "id": "90076e34",
   "metadata": {},
   "source": [
    "lasso "
   ]
  },
  {
   "cell_type": "code",
   "execution_count": 357,
   "id": "5b4abc35",
   "metadata": {},
   "outputs": [
    {
     "name": "stderr",
     "output_type": "stream",
     "text": [
      "C:\\Users\\MUDRA\\anaconda3\\lib\\site-packages\\sklearn\\linear_model\\_coordinate_descent.py:529: ConvergenceWarning: Objective did not converge. You might want to increase the number of iterations. Duality gap: 1266060812212103.0, tolerance: 772308896159.8083\n",
      "  model = cd_fast.enet_coordinate_descent(\n"
     ]
    },
    {
     "data": {
      "text/plain": [
       "Lasso(alpha=50, max_iter=100)"
      ]
     },
     "execution_count": 357,
     "metadata": {},
     "output_type": "execute_result"
    }
   ],
   "source": [
    "lasso_reg = Lasso(alpha=50, max_iter=100)\n",
    "lasso_reg.fit(X_train,Y_train)"
   ]
  },
  {
   "cell_type": "code",
   "execution_count": 406,
   "id": "d03c501c",
   "metadata": {},
   "outputs": [
    {
     "data": {
      "text/plain": [
       "0.6548967255543661"
      ]
     },
     "execution_count": 406,
     "metadata": {},
     "output_type": "execute_result"
    }
   ],
   "source": [
    "lasso_reg.score(X_test,Y_test)"
   ]
  },
  {
   "cell_type": "code",
   "execution_count": 407,
   "id": "c4958baf",
   "metadata": {},
   "outputs": [
    {
     "data": {
      "text/plain": [
       "0.6817747151592968"
      ]
     },
     "execution_count": 407,
     "metadata": {},
     "output_type": "execute_result"
    }
   ],
   "source": [
    "lasso_reg.score(X_train,Y_train)"
   ]
  },
  {
   "cell_type": "code",
   "execution_count": 408,
   "id": "11df1a20",
   "metadata": {},
   "outputs": [
    {
     "name": "stdout",
     "output_type": "stream",
     "text": [
      "Slope: [[ 2.65385521e+05 -4.87015132e+04 -9.15012610e+04  1.33328825e+05\n",
      "   4.51421134e+04  2.36402562e+00  3.34369853e+01  8.72947285e-01\n",
      "   2.40052521e+05 -4.86468479e+04 -8.16998222e+04  2.99713867e+05\n",
      "   8.90244701e+04  1.85437791e+05  1.74573503e+05 -7.14126477e+04\n",
      "  -1.74424823e+05 -6.82169972e+04  9.79856801e+04 -1.30055291e+05\n",
      "  -6.44904571e+04  4.89147206e+03  8.66001233e+04 -2.47109797e+05\n",
      "  -1.43255952e+05 -2.27755371e+05  1.10016085e+05 -1.26987375e+05\n",
      "   1.79106082e+05  1.53226902e+03  1.28382731e+05  5.23473516e+03\n",
      "   2.10309192e+05  5.73169543e+04  1.84473887e+05 -3.73639881e+05\n",
      "   1.06445055e+05  1.87914262e+03  6.66163011e+03  2.10047147e+05\n",
      "   1.44861648e+05 -1.25013664e+05 -8.31369285e+04  3.23653563e+05\n",
      "   1.64916067e+05  2.88159849e+05  1.97149365e+05 -1.38857397e+05\n",
      "  -7.83656755e+04  3.78328019e+05 -1.08449468e+05 -7.54710743e+04\n",
      "  -2.43146470e+04  7.45033473e+04  5.21435689e+04  2.78511960e+04\n",
      "  -2.61970421e+04  1.53827560e+05 -2.12130437e+05  1.17277135e+05\n",
      "  -1.57265128e+05  1.71516510e+03 -1.64565826e+05 -2.51794927e+05\n",
      "  -4.37632035e+04  1.65648390e+03 -1.08722124e+05  7.57912620e+04\n",
      "  -1.69757091e+05  5.04260146e+05  6.73071476e+04  2.91157280e+05\n",
      "   8.58165312e+03 -1.66042207e+05  4.01862302e+05 -1.25439586e+05\n",
      "  -2.04767030e+05 -2.34315578e+04  1.29945348e+04  1.94514512e+04\n",
      "  -6.83721995e+04  3.32396060e+05 -3.32632484e+04 -2.15776695e+05\n",
      "  -1.66444765e+05 -3.35201583e+05 -2.74320004e+04 -2.13957863e+05\n",
      "   1.64215226e+05  2.28847506e+05 -1.03276697e+05 -2.29761601e+05\n",
      "  -2.01107468e-06  5.34809587e+04 -1.01010685e+05 -1.47997160e+04\n",
      "  -6.51429348e+04  3.76542293e+04 -7.51880992e+04 -1.50870447e+04\n",
      "   2.21302346e+04  6.08245011e+04 -6.29234112e+04  3.05481284e+04\n",
      "   4.88095164e+04 -3.51250210e+05  1.37214668e+05 -4.90897181e+04\n",
      "   1.44684116e+04  4.46131550e+05 -7.06364655e+04  4.80301457e+04\n",
      "  -1.63043435e+05 -2.69324767e+05  2.59043151e+05 -1.91165719e+05\n",
      "  -3.12137036e+05  1.17808940e+04  2.31053283e+04  1.12403370e+05\n",
      "  -3.89429806e+05 -9.16012342e+04  2.59313501e+05  4.03422830e+05\n",
      "   2.59777138e+05  8.76278341e+04 -1.74491873e+04 -1.72181831e+05\n",
      "   4.59301322e+04 -3.86741062e+05 -1.94893031e+05 -1.49410453e+04\n",
      "   1.26374394e+05  4.93340091e+04 -2.69932646e+04 -1.63324328e+05\n",
      "   9.98908705e+04  1.20932189e+05 -9.49234738e+04  1.91706710e+05\n",
      "  -8.46802269e+03  2.47075437e+05  2.36357211e+05 -6.00726078e+04\n",
      "  -4.54779669e+04 -6.94390733e+04  2.53816149e+05 -6.17352337e+04\n",
      "   3.86887690e+05 -2.54325832e+05  1.13923865e+05  9.36951369e+04\n",
      "  -3.18303995e+05 -3.88984033e+04 -9.43978746e+04  3.15554362e+05\n",
      "  -4.49561283e+04 -2.28471601e+05  5.85376681e+04  3.74301556e+04\n",
      "  -1.20388011e+05  1.58689643e+05  1.33354495e+05 -2.36699059e+05\n",
      "  -4.00705607e+04 -2.98386740e+05 -1.80889824e+05  4.74923817e+05\n",
      "  -1.25682549e+05  4.51149184e+04 -1.46614360e+05 -4.05816112e+05\n",
      "  -4.87873716e+05 -1.05236089e+05  7.49172091e+03 -3.57467041e+03\n",
      "   7.41489503e+04 -1.58653760e+05 -1.11329655e+05 -4.34438013e+04\n",
      "   4.47664333e+05 -1.47497665e+05  2.26076122e+05 -1.52288836e+05\n",
      "   4.56917870e+04 -2.64724150e+04  7.20498037e+04  1.17742490e+05\n",
      "  -9.25504708e+03 -6.51409793e+04 -1.00449617e+05 -1.52487648e+05\n",
      "   3.13721205e+04  1.41449425e+05 -9.71216214e+04 -7.93408471e+04\n",
      "   4.06955424e+04  1.16249278e+04 -2.28501749e+05 -5.38074891e+04\n",
      "  -9.43660792e+04  1.06892780e+05 -3.62392350e+04 -1.17479041e+05\n",
      "   8.81981140e+03  8.74637748e+04  8.02342290e+04  5.12055101e+04\n",
      "  -7.62092724e+04  4.75365084e+05  3.08997710e+04  2.22557080e+03\n",
      "   2.50067775e+05 -2.64499585e+04 -2.99106281e+03  1.23440846e+04\n",
      "   3.89293712e+04 -9.07941163e+04  9.10776997e+04  1.57685716e+05\n",
      "   3.03686573e+04  5.27318712e+05 -7.12169988e+04  8.56709761e+04\n",
      "   3.25494329e-06  2.57006831e+04 -2.75928398e+04 -3.00003340e+05\n",
      "   5.19109183e+04 -1.26121510e+05 -1.93870026e+05  1.35344025e+05\n",
      "  -2.88691489e+04  2.08288951e+05 -1.66012983e+05  6.64265439e+03\n",
      "   6.55730742e+04 -4.86664154e+04 -7.18571302e+04  8.14632883e+04\n",
      "  -2.02576843e+04 -2.81734579e+04  4.74324947e+05  1.62176848e+05\n",
      "   1.07081757e+05  1.58661357e+04  5.65177187e+04  7.67834166e+03\n",
      "  -5.10336130e+04 -3.90122427e+05  1.18189367e+05  1.17895115e+05\n",
      "   2.89579938e+05  2.02471063e+05  1.45721174e+05 -2.57942006e+04\n",
      "   2.11571283e+05  4.09275434e+05  2.35875280e+05 -1.85121708e+05\n",
      "  -7.97527028e+04 -2.61061535e+05 -5.91969034e+04  5.06739091e+05\n",
      "   1.16559634e+05 -5.87032968e+04  6.04509311e+04  2.44051188e+05\n",
      "   3.67013420e+04  1.16490572e+05 -9.64127061e+04 -1.31945218e+05\n",
      "   2.60670201e+05 -2.49899041e+05 -1.69807482e+05 -6.89850387e+04\n",
      "  -1.66965704e+05  1.85302875e+05  6.98898788e+04 -1.74593615e+05\n",
      "   1.48809243e+05  1.00473946e+05  3.27968939e+04  2.62572438e+05\n",
      "  -1.78885074e+05 -8.08596718e+04 -2.44880846e+05 -5.88116819e+04\n",
      "  -7.09303297e+04 -3.94168393e+05 -6.91577870e+04 -2.02020490e+04\n",
      "  -6.33674983e+04  5.17786374e+04 -3.40259847e+05 -1.41871158e+05\n",
      "   6.50678297e+04 -2.31919613e+05  4.58699281e+05  5.67767194e+04\n",
      "  -5.27439280e+04 -1.30411184e+05 -2.54789575e+04  1.12454698e+05\n",
      "  -6.12951500e+04 -7.15669437e+04 -3.75024458e+04 -3.83562170e+04\n",
      "   1.21979775e+05 -2.04505580e+05  2.24062054e+05 -4.93782058e+04\n",
      "   5.67228172e+04  1.38786341e+05  2.69650665e+04  2.00897132e+04\n",
      "   9.22617595e+04  1.39686904e+04 -4.01184134e+04 -7.10324474e+04\n",
      "  -4.09726575e+05  1.93816028e+05  2.26572419e+05 -3.49729418e+05\n",
      "  -2.70765396e+05  2.33864292e+05 -2.93534541e+05 -2.17182839e+05\n",
      "   5.89092829e+04 -1.03227714e+05 -2.77467558e+05 -2.01911256e+05\n",
      "  -6.14987692e+04 -7.02155110e+04  7.93211670e+04 -8.99301457e+04\n",
      "  -1.76412788e+05  1.28432285e+04  3.92698483e+05 -4.46669199e+04\n",
      "   2.80540718e+05 -5.49979404e+03 -1.70410966e+05  1.54134097e+05\n",
      "   8.74341030e+04  3.75020738e+05 -1.03703364e+05 -5.88066337e+04\n",
      "   5.36751306e+04  1.10990067e+04 -1.09033941e+05 -2.72075904e+05\n",
      "  -4.70540754e+05  7.80284324e+04  8.15889698e+04  4.62964125e+04\n",
      "   1.31622631e+04 -7.22958306e+04  3.19370323e+04  7.38091285e+05\n",
      "   2.60807401e+05 -2.74086908e+05  4.81853872e+05  9.70252691e+04\n",
      "  -9.20729945e+04 -8.11116526e+04  1.41487823e+05 -1.81778214e+05\n",
      "   1.75523791e+05  2.01041895e+05 -7.02415540e+04 -9.47283461e+04\n",
      "   3.65852843e+04  5.43365528e+05  3.51137714e-07 -4.01272181e+04\n",
      "   3.22893719e+05  1.28240582e+05  7.95448949e+04  4.17945985e+05\n",
      "  -4.91060453e+04 -1.34596039e+03 -5.23000894e+04  7.99125915e+04\n",
      "   2.13261101e+05  9.11700307e+04 -1.62986881e+05 -2.67138270e+04\n",
      "   7.12426032e+04  1.79235114e+05  9.90831056e+04  8.43979610e+05\n",
      "   1.41385094e+05  4.00532651e+05 -6.02368387e+04 -1.86144201e+05\n",
      "  -4.45402983e+04  7.74062640e+04  1.37991386e+05  8.13864146e+04\n",
      "   9.60339927e+03  1.74559750e+05  3.00438842e-06 -2.41023190e-06\n",
      "   9.03875244e+04 -1.34034719e+03  3.37159678e+05  3.55577357e+05\n",
      "  -8.99213993e+04  4.09118559e+04  1.99946226e-06  4.01856719e+05\n",
      "   9.00883130e+04  5.70114207e-06  1.32430986e+05  3.47218965e+05\n",
      "   1.45083732e+05 -2.44604824e+05  1.45470466e+05 -3.13863639e+05\n",
      "   1.57522481e+05 -2.33762740e+05  1.02402642e+05 -1.42124642e+05\n",
      "   2.51910573e+05  8.57288484e+04  1.81505792e+05  1.34468571e+05\n",
      "   4.40120854e+05  2.09504866e+05  3.74723778e+05 -2.65211470e+04\n",
      "  -1.55021561e+05  5.13240874e+04  5.91781550e+04  8.58215382e+04\n",
      "   8.55814666e+04  6.12641532e+03  1.39062295e+06  1.65163593e+05\n",
      "  -1.22181443e+05  6.22046403e+04  2.26622951e+03 -6.08735351e+05\n",
      "  -7.08630678e+04 -1.01621511e+04 -4.32488430e+04  6.21261739e+04\n",
      "   1.03816962e+05  4.06287885e+05 -4.81110570e+03  8.70287132e+04\n",
      "   1.20571972e+05  1.19073546e+05  1.92320689e+05  7.69035608e+04\n",
      "  -2.39897592e+04 -5.59115320e+04  4.41782082e+04  1.54701231e+06\n",
      "   7.49546310e+04  1.58593432e+05  5.70084957e+04  1.08693535e+05\n",
      "   4.17153728e+04 -2.38889583e+05 -1.40508930e+05  3.99140356e+04\n",
      "  -1.44820660e-07 -1.86069529e+05 -2.55514476e+04  1.65252383e+05\n",
      "   7.45346687e+04  5.82576435e+05  7.83397894e+04  1.69359542e+04\n",
      "  -1.01976500e+05 -2.03489798e+05  7.45159659e+04 -6.92413968e+04\n",
      "   8.53352635e+03 -2.83412179e+04  1.85011344e+04  3.39155618e+04\n",
      "   2.78472942e+05 -4.19530725e+04  6.53273394e+05  1.05643543e+05\n",
      "   1.32430442e+05  2.11054907e+05  5.52985808e+04  4.85718666e+03\n",
      "  -2.01691365e+04  1.40323628e+02  1.37161130e+05  5.51329613e+04\n",
      "   1.28565038e+05  7.45914005e+04  1.45695430e+05 -1.39050098e-06\n",
      "  -3.91699723e-06 -5.19470136e+05  2.20575497e+05  1.49769028e+05\n",
      "  -1.64852265e+05  7.90815386e+03 -2.67013093e-07  5.71211110e+05\n",
      "   8.65708687e+05  1.21849342e+05  4.11207932e+05 -1.96467644e+04\n",
      "   7.96236673e+04 -7.82547730e+04  4.59335903e+04 -2.85517898e+04\n",
      "   5.51639650e+05 -1.51758338e+05  1.45262755e+05  4.39965096e+04\n",
      "  -4.95274287e+04  1.17526619e+05  3.15377386e+04 -2.78619191e+04\n",
      "   2.47058392e+05  1.10053060e+05  2.26418018e+04  1.32332934e-06\n",
      "   2.17489582e+04  1.34109714e+05 -6.18506590e+03  2.64763358e+03\n",
      "  -8.39761868e+04 -1.36190873e+05  2.55522810e+04  1.06152018e+05\n",
      "   3.91391972e+05 -1.69647611e+04  1.26157795e+05  2.99146578e+05\n",
      "   1.76054823e+05 -9.03638712e+03  1.13566038e+05 -1.96117693e+05\n",
      "  -1.81465352e+04 -3.45222645e+04  1.88377913e+05  6.82940916e+04\n",
      "  -7.14362351e+04  1.91047187e+05  1.31229707e+05 -2.67149321e+04\n",
      "   1.68610239e+05  7.37272556e+04  6.92772640e+05  2.50444105e+05\n",
      "   7.69322140e+04 -1.65433553e+05  1.16390473e+05  1.03472612e+05\n",
      "   1.48142335e+05 -5.20691830e+04  7.41753369e+04 -6.52881127e+04\n",
      "   1.47571715e+05 -1.67114194e-06  3.28421340e+05 -1.05223580e+04\n",
      "   1.98687161e+05  5.52613728e+04  2.55167229e+05  5.73528927e+04\n",
      "  -1.99315078e+05  1.49893146e+05  3.35857700e+05  9.60325955e+04\n",
      "  -6.04159605e+03  8.82996075e+04  3.50265760e+04  4.59584462e+04\n",
      "  -2.65159488e+05  2.49023905e+03  1.63684124e+04 -1.97953903e+04\n",
      "   2.70098235e+05  6.25920747e+04  7.94362826e+04  3.35080455e+05\n",
      "   2.20433643e+05  2.69550118e+05  3.74469806e+05  2.55568713e+04\n",
      "   1.35234066e+05  9.54053453e+04  1.16865458e+05 -9.69900023e+04\n",
      "   2.34397758e+05  7.71596505e+04 -5.07853014e+04  1.78155404e+05\n",
      "  -5.58502247e+05 -3.41898310e+05 -1.08451685e+04  4.07574123e+04\n",
      "   2.86540607e+04  7.96744798e+04 -3.84978584e+04  2.90319420e+05\n",
      "   4.32731199e+04  4.59781597e+04 -1.98581732e+04  3.60942907e+04\n",
      "  -4.80018172e+04 -4.78540927e+05  4.47439888e+05  2.42599936e+05\n",
      "   4.19730255e+04  1.15477998e+05  3.32991312e+04  4.84799059e+04\n",
      "   1.59011688e-06  4.20566464e+03 -7.88152536e+04  3.71423005e+05\n",
      "  -1.77267926e+05  3.67875402e+05 -4.00334050e+05  6.69011240e+04\n",
      "   1.29456906e+05  1.65609753e+05 -1.29366526e-07  6.02012733e-07\n",
      "   1.15163857e-06  7.23514344e+04 -1.03155570e+05 -2.31257473e+05\n",
      "   3.10410365e+04  4.82197098e+04 -4.23541375e+05  4.32881322e+05\n",
      "   1.21106141e+05  1.87158127e+05  4.75458680e+03 -8.33818953e+04\n",
      "   5.56882810e+04 -2.62344872e+05  7.86132810e+04 -3.33784828e+04\n",
      "   1.21957577e+05 -6.45755790e-07 -1.05132867e+05  1.33192680e+05\n",
      "  -7.09958693e+04 -6.07729240e+04 -5.22975265e+05 -5.95302882e+04\n",
      "   1.46571715e+05  1.25400727e+05 -1.07739058e+05  7.08796005e+04\n",
      "   3.37718166e+05  2.19221305e+05 -2.16644428e+03  4.56194424e+05\n",
      "  -1.07139991e+05 -7.28119630e-07 -6.30837651e+04 -2.82656401e-07\n",
      "   9.68562921e+04  1.14195102e+04  6.62795764e+05  4.79093930e+04\n",
      "   5.39846946e+04  9.28829868e+05  2.14206897e+05 -9.44710337e-08\n",
      "  -5.66639260e+04  2.67209472e+05  7.01306426e+04  5.57022891e+04\n",
      "   1.31402317e+05  1.69659409e+05  4.71976807e+04  1.50268290e+05\n",
      "   6.01251427e+04 -3.21597327e-09 -2.63880007e+05  7.75552754e+04\n",
      "   5.98627842e+04  1.87907909e+05  2.85150222e+04  1.81320758e+05\n",
      "   2.59393169e+05 -7.37332634e+04 -5.82076609e-11 -5.54370175e+04\n",
      "   6.64627089e+05  1.31755954e+05  2.41811518e+05  5.46584402e+04\n",
      "   2.16987929e+03 -2.34356410e+05  1.24900183e+05  1.32927460e+05\n",
      "  -3.25002567e+04  4.25345113e+05  3.15940875e+05 -2.30308743e+05\n",
      "   2.88654388e+05  2.27742473e+05 -5.00969931e+03  3.63380265e+05\n",
      "   9.01623925e+04  1.56698390e+04 -1.28456537e+05 -4.34915946e+04\n",
      "   1.64945722e+05  8.05143010e+04  5.20280910e+05  9.33851744e+04\n",
      "  -2.01367010e+05  9.96957796e+04 -2.64369702e+04 -1.55086637e+05\n",
      "   1.93816028e+05  2.59632856e+04 -2.42023603e+04  1.24484497e+05\n",
      "  -7.29372887e+04 -4.73917702e+04  5.68671485e+04  2.53473592e+05\n",
      "   8.07163599e+04  3.59490311e+04 -1.83047735e+05 -6.33480906e+04\n",
      "   6.57401693e+04  3.06378161e+05 -2.44166004e+05  3.60179392e+05\n",
      "   1.57762101e+05  4.95621016e+03 -1.87224217e+05  2.51334176e+05]]\n",
      "Intercept: [811889.06130587]\n"
     ]
    }
   ],
   "source": [
    "print('Slope:' ,regression_model.coef_) \n",
    "print('Intercept:', regression_model.intercept_) "
   ]
  },
  {
   "cell_type": "code",
   "execution_count": 367,
   "id": "388ddb43",
   "metadata": {},
   "outputs": [],
   "source": [
    "mae=mean_squared_error(Y_test,Predicted_Price)"
   ]
  },
  {
   "cell_type": "code",
   "execution_count": 409,
   "id": "e474d0f7",
   "metadata": {},
   "outputs": [],
   "source": [
    "mse=mean_squared_error(Y_test,Predicted_Price)\n",
    "r2 = r2_score(Y_test,Predicted_Price) "
   ]
  },
  {
   "cell_type": "code",
   "execution_count": 410,
   "id": "af54544e",
   "metadata": {},
   "outputs": [
    {
     "name": "stdout",
     "output_type": "stream",
     "text": [
      "Root mean squared error:  701617032927.4341\n",
      "R2 score:  -0.6448203692008667\n"
     ]
    }
   ],
   "source": [
    "print('Root mean squared error: ', mse) \n",
    "print('R2 score: ', r2) "
   ]
  },
  {
   "cell_type": "code",
   "execution_count": null,
   "id": "1c6e2632",
   "metadata": {},
   "outputs": [],
   "source": []
  },
  {
   "cell_type": "code",
   "execution_count": null,
   "id": "4718a644",
   "metadata": {},
   "outputs": [],
   "source": []
  },
  {
   "cell_type": "code",
   "execution_count": null,
   "id": "853d395a",
   "metadata": {},
   "outputs": [],
   "source": []
  }
 ],
 "metadata": {
  "kernelspec": {
   "display_name": "Python 3",
   "language": "python",
   "name": "python3"
  },
  "language_info": {
   "codemirror_mode": {
    "name": "ipython",
    "version": 3
   },
   "file_extension": ".py",
   "mimetype": "text/x-python",
   "name": "python",
   "nbconvert_exporter": "python",
   "pygments_lexer": "ipython3",
   "version": "3.8.8"
  }
 },
 "nbformat": 4,
 "nbformat_minor": 5
}
